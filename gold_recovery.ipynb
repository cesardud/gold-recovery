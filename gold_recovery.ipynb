{
 "cells": [
  {
   "cell_type": "markdown",
   "metadata": {},
   "source": [
    "# 🟡 Predicción de Recuperación de Oro Zyfra Mining\n",
    "\n",
    "Este proyecto implementa un modelo de aprendizaje automático para predecir la eficiencia de recuperación de oro en diferentes etapas del proceso de flotación. Se trabaja con datos industriales para mejorar la toma de decisiones operativas.\n",
    "\n"
   ]
  },
  {
   "cell_type": "code",
   "execution_count": 9,
   "metadata": {},
   "outputs": [],
   "source": [
    "#Importar librerías\n",
    "import pandas as pd\n",
    "import matplotlib.pyplot as plt\n",
    "from sklearn.model_selection import cross_val_score \n",
    "from sklearn.metrics import mean_absolute_error\n",
    "import numpy as np\n",
    "from sklearn.linear_model import LinearRegression\n",
    "from sklearn.ensemble import RandomForestRegressor\n",
    "from sklearn.model_selection import KFold\n",
    "from sklearn.metrics import make_scorer"
   ]
  },
  {
   "cell_type": "code",
   "execution_count": 11,
   "metadata": {},
   "outputs": [],
   "source": [
    "#cargar los archivos del data set usando a columna 'date' como índice\n",
    "df_train = pd.read_csv('gold_recovery_train.csv', index_col = 'date', parse_dates=True)\n",
    "df_test = pd.read_csv('gold_recovery_test.csv', index_col = 'date', parse_dates=True)\n",
    "df_full = pd.read_csv('gold_recovery_full.csv', index_col = 'date', parse_dates=True)\n"
   ]
  },
  {
   "cell_type": "code",
   "execution_count": 13,
   "metadata": {},
   "outputs": [
    {
     "name": "stdout",
     "output_type": "stream",
     "text": [
      "Tamaño del conjunto de entrenamiento: (16860, 86)\n",
      "Tamaño del conjunto de prueba: (5856, 52)\n",
      "Tamaño del conjunto completo: (22716, 86)\n"
     ]
    }
   ],
   "source": [
    "#Inspeccionamos tamaños de df\n",
    "print(\"Tamaño del conjunto de entrenamiento:\", df_train.shape)\n",
    "print(\"Tamaño del conjunto de prueba:\", df_test.shape)\n",
    "print(\"Tamaño del conjunto completo:\", df_full.shape)"
   ]
  },
  {
   "cell_type": "code",
   "execution_count": 15,
   "metadata": {},
   "outputs": [
    {
     "name": "stdout",
     "output_type": "stream",
     "text": [
      "\n",
      "Primeras filas del conjunto completo:\n",
      "                     final.output.concentrate_ag  final.output.concentrate_pb  \\\n",
      "date                                                                            \n",
      "2016-01-15 00:00:00                     6.055403                     9.889648   \n",
      "2016-01-15 01:00:00                     6.029369                     9.968944   \n",
      "2016-01-15 02:00:00                     6.055926                    10.213995   \n",
      "2016-01-15 03:00:00                     6.047977                     9.977019   \n",
      "2016-01-15 04:00:00                     6.148599                    10.142511   \n",
      "\n",
      "                     final.output.concentrate_sol  \\\n",
      "date                                                \n",
      "2016-01-15 00:00:00                      5.507324   \n",
      "2016-01-15 01:00:00                      5.257781   \n",
      "2016-01-15 02:00:00                      5.383759   \n",
      "2016-01-15 03:00:00                      4.858634   \n",
      "2016-01-15 04:00:00                      4.939416   \n",
      "\n",
      "                     final.output.concentrate_au  final.output.recovery  \\\n",
      "date                                                                      \n",
      "2016-01-15 00:00:00                    42.192020              70.541216   \n",
      "2016-01-15 01:00:00                    42.701629              69.266198   \n",
      "2016-01-15 02:00:00                    42.657501              68.116445   \n",
      "2016-01-15 03:00:00                    42.689819              68.347543   \n",
      "2016-01-15 04:00:00                    42.774141              66.927016   \n",
      "\n",
      "                     final.output.tail_ag  final.output.tail_pb  \\\n",
      "date                                                              \n",
      "2016-01-15 00:00:00             10.411962              0.895447   \n",
      "2016-01-15 01:00:00             10.462676              0.927452   \n",
      "2016-01-15 02:00:00             10.507046              0.953716   \n",
      "2016-01-15 03:00:00             10.422762              0.883763   \n",
      "2016-01-15 04:00:00             10.360302              0.792826   \n",
      "\n",
      "                     final.output.tail_sol  final.output.tail_au  \\\n",
      "date                                                               \n",
      "2016-01-15 00:00:00              16.904297              2.143149   \n",
      "2016-01-15 01:00:00              16.634514              2.224930   \n",
      "2016-01-15 02:00:00              16.208849              2.257889   \n",
      "2016-01-15 03:00:00              16.532835              2.146849   \n",
      "2016-01-15 04:00:00              16.525686              2.055292   \n",
      "\n",
      "                     primary_cleaner.input.sulfate  ...  \\\n",
      "date                                                ...   \n",
      "2016-01-15 00:00:00                     127.092003  ...   \n",
      "2016-01-15 01:00:00                     125.629232  ...   \n",
      "2016-01-15 02:00:00                     123.819808  ...   \n",
      "2016-01-15 03:00:00                     122.270188  ...   \n",
      "2016-01-15 04:00:00                     117.988169  ...   \n",
      "\n",
      "                     secondary_cleaner.state.floatbank4_a_air  \\\n",
      "date                                                            \n",
      "2016-01-15 00:00:00                                 14.016835   \n",
      "2016-01-15 01:00:00                                 13.992281   \n",
      "2016-01-15 02:00:00                                 14.015015   \n",
      "2016-01-15 03:00:00                                 14.036510   \n",
      "2016-01-15 04:00:00                                 14.027298   \n",
      "\n",
      "                     secondary_cleaner.state.floatbank4_a_level  \\\n",
      "date                                                              \n",
      "2016-01-15 00:00:00                                 -502.488007   \n",
      "2016-01-15 01:00:00                                 -505.503262   \n",
      "2016-01-15 02:00:00                                 -502.520901   \n",
      "2016-01-15 03:00:00                                 -500.857308   \n",
      "2016-01-15 04:00:00                                 -499.838632   \n",
      "\n",
      "                     secondary_cleaner.state.floatbank4_b_air  \\\n",
      "date                                                            \n",
      "2016-01-15 00:00:00                                 12.099931   \n",
      "2016-01-15 01:00:00                                 11.950531   \n",
      "2016-01-15 02:00:00                                 11.912783   \n",
      "2016-01-15 03:00:00                                 11.999550   \n",
      "2016-01-15 04:00:00                                 11.953070   \n",
      "\n",
      "                     secondary_cleaner.state.floatbank4_b_level  \\\n",
      "date                                                              \n",
      "2016-01-15 00:00:00                                 -504.715942   \n",
      "2016-01-15 01:00:00                                 -501.331529   \n",
      "2016-01-15 02:00:00                                 -501.133383   \n",
      "2016-01-15 03:00:00                                 -501.193686   \n",
      "2016-01-15 04:00:00                                 -501.053894   \n",
      "\n",
      "                     secondary_cleaner.state.floatbank5_a_air  \\\n",
      "date                                                            \n",
      "2016-01-15 00:00:00                                  9.925633   \n",
      "2016-01-15 01:00:00                                 10.039245   \n",
      "2016-01-15 02:00:00                                 10.070913   \n",
      "2016-01-15 03:00:00                                  9.970366   \n",
      "2016-01-15 04:00:00                                  9.925709   \n",
      "\n",
      "                     secondary_cleaner.state.floatbank5_a_level  \\\n",
      "date                                                              \n",
      "2016-01-15 00:00:00                                 -498.310211   \n",
      "2016-01-15 01:00:00                                 -500.169983   \n",
      "2016-01-15 02:00:00                                 -500.129135   \n",
      "2016-01-15 03:00:00                                 -499.201640   \n",
      "2016-01-15 04:00:00                                 -501.686727   \n",
      "\n",
      "                     secondary_cleaner.state.floatbank5_b_air  \\\n",
      "date                                                            \n",
      "2016-01-15 00:00:00                                  8.079666   \n",
      "2016-01-15 01:00:00                                  7.984757   \n",
      "2016-01-15 02:00:00                                  8.013877   \n",
      "2016-01-15 03:00:00                                  7.977324   \n",
      "2016-01-15 04:00:00                                  7.894242   \n",
      "\n",
      "                     secondary_cleaner.state.floatbank5_b_level  \\\n",
      "date                                                              \n",
      "2016-01-15 00:00:00                                 -500.470978   \n",
      "2016-01-15 01:00:00                                 -500.582168   \n",
      "2016-01-15 02:00:00                                 -500.517572   \n",
      "2016-01-15 03:00:00                                 -500.255908   \n",
      "2016-01-15 04:00:00                                 -500.356035   \n",
      "\n",
      "                     secondary_cleaner.state.floatbank6_a_air  \\\n",
      "date                                                            \n",
      "2016-01-15 00:00:00                                 14.151341   \n",
      "2016-01-15 01:00:00                                 13.998353   \n",
      "2016-01-15 02:00:00                                 14.028663   \n",
      "2016-01-15 03:00:00                                 14.005551   \n",
      "2016-01-15 04:00:00                                 13.996647   \n",
      "\n",
      "                     secondary_cleaner.state.floatbank6_a_level  \n",
      "date                                                             \n",
      "2016-01-15 00:00:00                                 -605.841980  \n",
      "2016-01-15 01:00:00                                 -599.787184  \n",
      "2016-01-15 02:00:00                                 -601.427363  \n",
      "2016-01-15 03:00:00                                 -599.996129  \n",
      "2016-01-15 04:00:00                                 -601.496691  \n",
      "\n",
      "[5 rows x 86 columns]\n",
      "\n",
      "Información del conjunto completo:\n",
      "<class 'pandas.core.frame.DataFrame'>\n",
      "DatetimeIndex: 22716 entries, 2016-01-15 00:00:00 to 2018-08-18 10:59:59\n",
      "Data columns (total 86 columns):\n",
      " #   Column                                              Non-Null Count  Dtype  \n",
      "---  ------                                              --------------  -----  \n",
      " 0   final.output.concentrate_ag                         22627 non-null  float64\n",
      " 1   final.output.concentrate_pb                         22629 non-null  float64\n",
      " 2   final.output.concentrate_sol                        22331 non-null  float64\n",
      " 3   final.output.concentrate_au                         22630 non-null  float64\n",
      " 4   final.output.recovery                               20753 non-null  float64\n",
      " 5   final.output.tail_ag                                22633 non-null  float64\n",
      " 6   final.output.tail_pb                                22516 non-null  float64\n",
      " 7   final.output.tail_sol                               22445 non-null  float64\n",
      " 8   final.output.tail_au                                22635 non-null  float64\n",
      " 9   primary_cleaner.input.sulfate                       21107 non-null  float64\n",
      " 10  primary_cleaner.input.depressant                    21170 non-null  float64\n",
      " 11  primary_cleaner.input.feed_size                     22716 non-null  float64\n",
      " 12  primary_cleaner.input.xanthate                      21565 non-null  float64\n",
      " 13  primary_cleaner.output.concentrate_ag               22618 non-null  float64\n",
      " 14  primary_cleaner.output.concentrate_pb               22268 non-null  float64\n",
      " 15  primary_cleaner.output.concentrate_sol              21918 non-null  float64\n",
      " 16  primary_cleaner.output.concentrate_au               22618 non-null  float64\n",
      " 17  primary_cleaner.output.tail_ag                      22614 non-null  float64\n",
      " 18  primary_cleaner.output.tail_pb                      22594 non-null  float64\n",
      " 19  primary_cleaner.output.tail_sol                     22365 non-null  float64\n",
      " 20  primary_cleaner.output.tail_au                      22617 non-null  float64\n",
      " 21  primary_cleaner.state.floatbank8_a_air              22660 non-null  float64\n",
      " 22  primary_cleaner.state.floatbank8_a_level            22667 non-null  float64\n",
      " 23  primary_cleaner.state.floatbank8_b_air              22660 non-null  float64\n",
      " 24  primary_cleaner.state.floatbank8_b_level            22673 non-null  float64\n",
      " 25  primary_cleaner.state.floatbank8_c_air              22662 non-null  float64\n",
      " 26  primary_cleaner.state.floatbank8_c_level            22673 non-null  float64\n",
      " 27  primary_cleaner.state.floatbank8_d_air              22661 non-null  float64\n",
      " 28  primary_cleaner.state.floatbank8_d_level            22673 non-null  float64\n",
      " 29  rougher.calculation.sulfate_to_au_concentrate       22672 non-null  float64\n",
      " 30  rougher.calculation.floatbank10_sulfate_to_au_feed  22672 non-null  float64\n",
      " 31  rougher.calculation.floatbank11_sulfate_to_au_feed  22672 non-null  float64\n",
      " 32  rougher.calculation.au_pb_ratio                     21089 non-null  float64\n",
      " 33  rougher.input.feed_ag                               22618 non-null  float64\n",
      " 34  rougher.input.feed_pb                               22472 non-null  float64\n",
      " 35  rougher.input.feed_rate                             22163 non-null  float64\n",
      " 36  rougher.input.feed_size                             22277 non-null  float64\n",
      " 37  rougher.input.feed_sol                              22357 non-null  float64\n",
      " 38  rougher.input.feed_au                               22617 non-null  float64\n",
      " 39  rougher.input.floatbank10_sulfate                   21415 non-null  float64\n",
      " 40  rougher.input.floatbank10_xanthate                  22247 non-null  float64\n",
      " 41  rougher.input.floatbank11_sulfate                   22038 non-null  float64\n",
      " 42  rougher.input.floatbank11_xanthate                  20459 non-null  float64\n",
      " 43  rougher.output.concentrate_ag                       22618 non-null  float64\n",
      " 44  rougher.output.concentrate_pb                       22618 non-null  float64\n",
      " 45  rougher.output.concentrate_sol                      22526 non-null  float64\n",
      " 46  rougher.output.concentrate_au                       22618 non-null  float64\n",
      " 47  rougher.output.recovery                             19597 non-null  float64\n",
      " 48  rougher.output.tail_ag                              19979 non-null  float64\n",
      " 49  rougher.output.tail_pb                              22618 non-null  float64\n",
      " 50  rougher.output.tail_sol                             19980 non-null  float64\n",
      " 51  rougher.output.tail_au                              19980 non-null  float64\n",
      " 52  rougher.state.floatbank10_a_air                     22646 non-null  float64\n",
      " 53  rougher.state.floatbank10_a_level                   22647 non-null  float64\n",
      " 54  rougher.state.floatbank10_b_air                     22646 non-null  float64\n",
      " 55  rougher.state.floatbank10_b_level                   22647 non-null  float64\n",
      " 56  rougher.state.floatbank10_c_air                     22646 non-null  float64\n",
      " 57  rougher.state.floatbank10_c_level                   22654 non-null  float64\n",
      " 58  rougher.state.floatbank10_d_air                     22641 non-null  float64\n",
      " 59  rougher.state.floatbank10_d_level                   22649 non-null  float64\n",
      " 60  rougher.state.floatbank10_e_air                     22096 non-null  float64\n",
      " 61  rougher.state.floatbank10_e_level                   22649 non-null  float64\n",
      " 62  rougher.state.floatbank10_f_air                     22641 non-null  float64\n",
      " 63  rougher.state.floatbank10_f_level                   22642 non-null  float64\n",
      " 64  secondary_cleaner.output.tail_ag                    22616 non-null  float64\n",
      " 65  secondary_cleaner.output.tail_pb                    22600 non-null  float64\n",
      " 66  secondary_cleaner.output.tail_sol                   20501 non-null  float64\n",
      " 67  secondary_cleaner.output.tail_au                    22618 non-null  float64\n",
      " 68  secondary_cleaner.state.floatbank2_a_air            22333 non-null  float64\n",
      " 69  secondary_cleaner.state.floatbank2_a_level          22591 non-null  float64\n",
      " 70  secondary_cleaner.state.floatbank2_b_air            22538 non-null  float64\n",
      " 71  secondary_cleaner.state.floatbank2_b_level          22588 non-null  float64\n",
      " 72  secondary_cleaner.state.floatbank3_a_air            22585 non-null  float64\n",
      " 73  secondary_cleaner.state.floatbank3_a_level          22587 non-null  float64\n",
      " 74  secondary_cleaner.state.floatbank3_b_air            22592 non-null  float64\n",
      " 75  secondary_cleaner.state.floatbank3_b_level          22590 non-null  float64\n",
      " 76  secondary_cleaner.state.floatbank4_a_air            22571 non-null  float64\n",
      " 77  secondary_cleaner.state.floatbank4_a_level          22587 non-null  float64\n",
      " 78  secondary_cleaner.state.floatbank4_b_air            22608 non-null  float64\n",
      " 79  secondary_cleaner.state.floatbank4_b_level          22607 non-null  float64\n",
      " 80  secondary_cleaner.state.floatbank5_a_air            22615 non-null  float64\n",
      " 81  secondary_cleaner.state.floatbank5_a_level          22615 non-null  float64\n",
      " 82  secondary_cleaner.state.floatbank5_b_air            22615 non-null  float64\n",
      " 83  secondary_cleaner.state.floatbank5_b_level          22616 non-null  float64\n",
      " 84  secondary_cleaner.state.floatbank6_a_air            22597 non-null  float64\n",
      " 85  secondary_cleaner.state.floatbank6_a_level          22615 non-null  float64\n",
      "dtypes: float64(86)\n",
      "memory usage: 15.1 MB\n",
      "None\n"
     ]
    }
   ],
   "source": [
    "# Vista previa de los datos\n",
    "print(\"\\nPrimeras filas del conjunto completo:\")\n",
    "print(df_full.head(5))\n",
    "\n",
    "# Información general\n",
    "print(\"\\nInformación del conjunto completo:\")\n",
    "print(df_full.info())"
   ]
  },
  {
   "cell_type": "code",
   "execution_count": 5,
   "metadata": {},
   "outputs": [
    {
     "name": "stdout",
     "output_type": "stream",
     "text": [
      "Valores Nulos en entrenamiento:\n",
      "final.output.concentrate_ag                     72\n",
      "final.output.concentrate_pb                     72\n",
      "final.output.concentrate_sol                   370\n",
      "final.output.concentrate_au                     71\n",
      "final.output.recovery                         1521\n",
      "                                              ... \n",
      "secondary_cleaner.state.floatbank5_a_level      85\n",
      "secondary_cleaner.state.floatbank5_b_air        85\n",
      "secondary_cleaner.state.floatbank5_b_level      84\n",
      "secondary_cleaner.state.floatbank6_a_air       103\n",
      "secondary_cleaner.state.floatbank6_a_level      85\n",
      "Length: 85, dtype: int64\n",
      "\n",
      "Valores Nulos en prueba:\n",
      "primary_cleaner.input.sulfate                 302\n",
      "primary_cleaner.input.depressant              284\n",
      "primary_cleaner.input.xanthate                166\n",
      "primary_cleaner.state.floatbank8_a_air         16\n",
      "primary_cleaner.state.floatbank8_a_level       16\n",
      "primary_cleaner.state.floatbank8_b_air         16\n",
      "primary_cleaner.state.floatbank8_b_level       16\n",
      "primary_cleaner.state.floatbank8_c_air         16\n",
      "primary_cleaner.state.floatbank8_c_level       16\n",
      "primary_cleaner.state.floatbank8_d_air         16\n",
      "primary_cleaner.state.floatbank8_d_level       16\n",
      "rougher.input.feed_ag                          16\n",
      "rougher.input.feed_pb                          16\n",
      "rougher.input.feed_rate                        40\n",
      "rougher.input.feed_size                        22\n",
      "rougher.input.feed_sol                         67\n",
      "rougher.input.feed_au                          16\n",
      "rougher.input.floatbank10_sulfate             257\n",
      "rougher.input.floatbank10_xanthate            123\n",
      "rougher.input.floatbank11_sulfate              55\n",
      "rougher.input.floatbank11_xanthate            353\n",
      "rougher.state.floatbank10_a_air                17\n",
      "rougher.state.floatbank10_a_level              16\n",
      "rougher.state.floatbank10_b_air                17\n",
      "rougher.state.floatbank10_b_level              16\n",
      "rougher.state.floatbank10_c_air                17\n",
      "rougher.state.floatbank10_c_level              16\n",
      "rougher.state.floatbank10_d_air                17\n",
      "rougher.state.floatbank10_d_level              16\n",
      "rougher.state.floatbank10_e_air                17\n",
      "rougher.state.floatbank10_e_level              16\n",
      "rougher.state.floatbank10_f_air                17\n",
      "rougher.state.floatbank10_f_level              16\n",
      "secondary_cleaner.state.floatbank2_a_air       20\n",
      "secondary_cleaner.state.floatbank2_a_level     16\n",
      "secondary_cleaner.state.floatbank2_b_air       23\n",
      "secondary_cleaner.state.floatbank2_b_level     16\n",
      "secondary_cleaner.state.floatbank3_a_air       34\n",
      "secondary_cleaner.state.floatbank3_a_level     16\n",
      "secondary_cleaner.state.floatbank3_b_air       16\n",
      "secondary_cleaner.state.floatbank3_b_level     16\n",
      "secondary_cleaner.state.floatbank4_a_air       16\n",
      "secondary_cleaner.state.floatbank4_a_level     16\n",
      "secondary_cleaner.state.floatbank4_b_air       16\n",
      "secondary_cleaner.state.floatbank4_b_level     16\n",
      "secondary_cleaner.state.floatbank5_a_air       16\n",
      "secondary_cleaner.state.floatbank5_a_level     16\n",
      "secondary_cleaner.state.floatbank5_b_air       16\n",
      "secondary_cleaner.state.floatbank5_b_level     16\n",
      "secondary_cleaner.state.floatbank6_a_air       16\n",
      "secondary_cleaner.state.floatbank6_a_level     16\n",
      "dtype: int64\n",
      "\n",
      "Valores Nulos en completo:\n",
      "final.output.concentrate_ag                     89\n",
      "final.output.concentrate_pb                     87\n",
      "final.output.concentrate_sol                   385\n",
      "final.output.concentrate_au                     86\n",
      "final.output.recovery                         1963\n",
      "                                              ... \n",
      "secondary_cleaner.state.floatbank5_a_level     101\n",
      "secondary_cleaner.state.floatbank5_b_air       101\n",
      "secondary_cleaner.state.floatbank5_b_level     100\n",
      "secondary_cleaner.state.floatbank6_a_air       119\n",
      "secondary_cleaner.state.floatbank6_a_level     101\n",
      "Length: 85, dtype: int64\n"
     ]
    }
   ],
   "source": [
    "#Obtenemos las columnas donde hay valores faltantes\n",
    "def na_in_df(df):\n",
    "    return df.isna().sum()[df.isna().sum() > 0]\n",
    "print(\"Valores Nulos en entrenamiento:\")\n",
    "print(na_in_df(df_train))\n",
    "\n",
    "print(\"\\nValores Nulos en prueba:\")\n",
    "print(na_in_df(df_test))\n",
    "\n",
    "print(\"\\nValores Nulos en completo:\")\n",
    "print(na_in_df(df_full))"
   ]
  },
  {
   "cell_type": "markdown",
   "metadata": {},
   "source": [
    "Observamos que hay varios valores faltantes el los df; por lo que para hacer el calculo de recuperación, debemos asegurarnos que las 3 columnas necesarias no tengan valores nulos."
   ]
  },
  {
   "cell_type": "code",
   "execution_count": 17,
   "metadata": {
    "scrolled": true
   },
   "outputs": [
    {
     "name": "stdout",
     "output_type": "stream",
     "text": [
      "Valores faltantes en las variables\n",
      "rougher.output.concentrate_au      82\n",
      "rougher.input.feed_au              83\n",
      "rougher.output.tail_au           2249\n",
      "rougher.output.recovery          2573\n",
      "dtype: int64\n",
      "\n",
      "Tamaño del conjunto de entrenamiento limpio con datos completos\n",
      "(14287, 86)\n"
     ]
    }
   ],
   "source": [
    "\n",
    "columns_needed = ['rougher.output.concentrate_au', 'rougher.input.feed_au', 'rougher.output.tail_au', 'rougher.output.recovery']\n",
    "\n",
    "print(\"Valores faltantes en las variables\")\n",
    "print(df_train[columns_needed].isna().sum())\n",
    "\n",
    "df_train_clean = df_train.dropna(subset=columns_needed)\n",
    "print()\n",
    "print(\"Tamaño del conjunto de entrenamiento limpio con datos completos\")\n",
    "print(df_train_clean.shape)"
   ]
  },
  {
   "cell_type": "code",
   "execution_count": 19,
   "metadata": {},
   "outputs": [
    {
     "name": "stdout",
     "output_type": "stream",
     "text": [
      "MAE entre el cálculo y el valor real de recuperación: 9.210911277458828e-15\n"
     ]
    }
   ],
   "source": [
    "#Realizamos el cálculo de recuperación\n",
    "C = df_train_clean['rougher.output.concentrate_au']\n",
    "F = df_train_clean['rougher.input.feed_au']\n",
    "T = df_train_clean['rougher.output.tail_au']\n",
    "\n",
    "recovery_calc = (C * (F - T)) / (F * (C - T)) * 100\n",
    "#Comparamos el cálculo con los datos originales para obtener EAM\n",
    "mae = mean_absolute_error(df_train_clean['rougher.output.recovery'], recovery_calc)\n",
    "print(\"MAE entre el cálculo y el valor real de recuperación:\", mae)"
   ]
  },
  {
   "cell_type": "markdown",
   "metadata": {},
   "source": [
    "El EAM es básicamente cero; por lo que:\n",
    "\n",
    "- La formula de recuperación se aplicó correctamente.\n",
    "- Los datos originales en el df están bien calculados\n",
    "- Se puede usar esta métrica como variable objetivo\n",
    "\n",
    "  "
   ]
  },
  {
   "cell_type": "code",
   "execution_count": 21,
   "metadata": {},
   "outputs": [
    {
     "name": "stdout",
     "output_type": "stream",
     "text": [
      "Columnas faltantes en el conjunto de prueba:\n",
      "final.output.concentrate_ag\n",
      "final.output.concentrate_au\n",
      "final.output.concentrate_pb\n",
      "final.output.concentrate_sol\n",
      "final.output.recovery\n",
      "final.output.tail_ag\n",
      "final.output.tail_au\n",
      "final.output.tail_pb\n",
      "final.output.tail_sol\n",
      "primary_cleaner.output.concentrate_ag\n",
      "primary_cleaner.output.concentrate_au\n",
      "primary_cleaner.output.concentrate_pb\n",
      "primary_cleaner.output.concentrate_sol\n",
      "primary_cleaner.output.tail_ag\n",
      "primary_cleaner.output.tail_au\n",
      "primary_cleaner.output.tail_pb\n",
      "primary_cleaner.output.tail_sol\n",
      "rougher.calculation.au_pb_ratio\n",
      "rougher.calculation.floatbank10_sulfate_to_au_feed\n",
      "rougher.calculation.floatbank11_sulfate_to_au_feed\n",
      "rougher.calculation.sulfate_to_au_concentrate\n",
      "rougher.output.concentrate_ag\n",
      "rougher.output.concentrate_au\n",
      "rougher.output.concentrate_pb\n",
      "rougher.output.concentrate_sol\n",
      "rougher.output.recovery\n",
      "rougher.output.tail_ag\n",
      "rougher.output.tail_au\n",
      "rougher.output.tail_pb\n",
      "rougher.output.tail_sol\n",
      "secondary_cleaner.output.tail_ag\n",
      "secondary_cleaner.output.tail_au\n",
      "secondary_cleaner.output.tail_pb\n",
      "secondary_cleaner.output.tail_sol\n",
      "\n",
      "Número total de columnas faltantes: 34\n"
     ]
    }
   ],
   "source": [
    "#Busquemos las colunas presentes en train pero faltantes en test\n",
    "train_cols = set(df_train.columns)\n",
    "test_cols = set(df_test.columns)\n",
    "\n",
    "missing_in_test = sorted(list(train_cols - test_cols))\n",
    "\n",
    "print(\"Columnas faltantes en el conjunto de prueba:\")\n",
    "for col in missing_in_test:\n",
    "    print(col)\n",
    "    \n",
    "print(\"\\nNúmero total de columnas faltantes:\", len(missing_in_test))"
   ]
  },
  {
   "cell_type": "markdown",
   "metadata": {},
   "source": [
    "Columnas faltantes en el conjunto de prueba (df_test)\n",
    "Al comparar las columnas del conjunto de entrenamiento (df_train) con el conjunto de prueba (df_test), se encontraron 34 columnas que están presentes en el entrenamiento pero ausentes en la prueba. Estas columnas son principalmente de tipo output y calculation.\n",
    "\n",
    "Esto debido a que en el entorno en donde se generan los datos, aún no se conocen. Además usar esas variables sería una fuga de datos y el modelo sería erroneo.\n",
    "\n",
    "Para usar solo las características disponibles durante el proceso de producción, solo nos quedaremos con las columnas que están tanto en df_train como en df_test."
   ]
  },
  {
   "cell_type": "code",
   "execution_count": 23,
   "metadata": {},
   "outputs": [
    {
     "name": "stdout",
     "output_type": "stream",
     "text": [
      "Número de variables disponibles para el modelo: 52\n"
     ]
    }
   ],
   "source": [
    "#Hacemos una funcion que nos indique las columnas tanto en test como en train\n",
    "def get_real_features(train_df, test_df):\n",
    "    common_cols = train_df.columns.intersection(test_df.columns)\n",
    "    return list(common_cols)\n",
    "\n",
    "real_features = get_real_features(df_train, df_test)\n",
    "print('Número de variables disponibles para el modelo:', len(real_features))"
   ]
  },
  {
   "cell_type": "markdown",
   "metadata": {},
   "source": [
    "<div class=\"alert alert-block alert-success\">\n",
    "<b>Comentario del revisor</b> <a class=\"tocSkip\"></a>\n",
    "\n",
    "Buena función para obtener estos features.\n",
    "</div>"
   ]
  },
  {
   "cell_type": "code",
   "execution_count": 25,
   "metadata": {},
   "outputs": [
    {
     "name": "stdout",
     "output_type": "stream",
     "text": [
      "Valores nulos en columnas reales del conjunto de prueba:\n",
      "primary_cleaner.input.sulfate                 302\n",
      "primary_cleaner.input.depressant              284\n",
      "primary_cleaner.input.xanthate                166\n",
      "primary_cleaner.state.floatbank8_a_air         16\n",
      "primary_cleaner.state.floatbank8_a_level       16\n",
      "primary_cleaner.state.floatbank8_b_air         16\n",
      "primary_cleaner.state.floatbank8_b_level       16\n",
      "primary_cleaner.state.floatbank8_c_air         16\n",
      "primary_cleaner.state.floatbank8_c_level       16\n",
      "primary_cleaner.state.floatbank8_d_air         16\n",
      "primary_cleaner.state.floatbank8_d_level       16\n",
      "rougher.input.feed_ag                          16\n",
      "rougher.input.feed_pb                          16\n",
      "rougher.input.feed_rate                        40\n",
      "rougher.input.feed_size                        22\n",
      "rougher.input.feed_sol                         67\n",
      "rougher.input.feed_au                          16\n",
      "rougher.input.floatbank10_sulfate             257\n",
      "rougher.input.floatbank10_xanthate            123\n",
      "rougher.input.floatbank11_sulfate              55\n",
      "rougher.input.floatbank11_xanthate            353\n",
      "rougher.state.floatbank10_a_air                17\n",
      "rougher.state.floatbank10_a_level              16\n",
      "rougher.state.floatbank10_b_air                17\n",
      "rougher.state.floatbank10_b_level              16\n",
      "rougher.state.floatbank10_c_air                17\n",
      "rougher.state.floatbank10_c_level              16\n",
      "rougher.state.floatbank10_d_air                17\n",
      "rougher.state.floatbank10_d_level              16\n",
      "rougher.state.floatbank10_e_air                17\n",
      "rougher.state.floatbank10_e_level              16\n",
      "rougher.state.floatbank10_f_air                17\n",
      "rougher.state.floatbank10_f_level              16\n",
      "secondary_cleaner.state.floatbank2_a_air       20\n",
      "secondary_cleaner.state.floatbank2_a_level     16\n",
      "secondary_cleaner.state.floatbank2_b_air       23\n",
      "secondary_cleaner.state.floatbank2_b_level     16\n",
      "secondary_cleaner.state.floatbank3_a_air       34\n",
      "secondary_cleaner.state.floatbank3_a_level     16\n",
      "secondary_cleaner.state.floatbank3_b_air       16\n",
      "secondary_cleaner.state.floatbank3_b_level     16\n",
      "secondary_cleaner.state.floatbank4_a_air       16\n",
      "secondary_cleaner.state.floatbank4_a_level     16\n",
      "secondary_cleaner.state.floatbank4_b_air       16\n",
      "secondary_cleaner.state.floatbank4_b_level     16\n",
      "secondary_cleaner.state.floatbank5_a_air       16\n",
      "secondary_cleaner.state.floatbank5_a_level     16\n",
      "secondary_cleaner.state.floatbank5_b_air       16\n",
      "secondary_cleaner.state.floatbank5_b_level     16\n",
      "secondary_cleaner.state.floatbank6_a_air       16\n",
      "secondary_cleaner.state.floatbank6_a_level     16\n",
      "dtype: int64\n"
     ]
    }
   ],
   "source": [
    "#Revisamos valores nulos \n",
    "missing_in_test = df_test[real_features].isna().sum()\n",
    "print(\"Valores nulos en columnas reales del conjunto de prueba:\")\n",
    "print(missing_in_test[missing_in_test > 0])"
   ]
  },
  {
   "cell_type": "code",
   "execution_count": 27,
   "metadata": {},
   "outputs": [
    {
     "name": "stdout",
     "output_type": "stream",
     "text": [
      "Tamaño original de df_test: (5856, 52)\n",
      "Tamaño limpio de df_test_clean: (5383, 52)\n"
     ]
    }
   ],
   "source": [
    "#Eliminar filas con valores nulos\n",
    "df_test_clean = df_test.dropna(subset=real_features)\n",
    "print(\"Tamaño original de df_test:\", df_test.shape)\n",
    "print(\"Tamaño limpio de df_test_clean:\", df_test_clean.shape)"
   ]
  },
  {
   "cell_type": "markdown",
   "metadata": {},
   "source": [
    "Ya tenemos los datos limpios:\n",
    "\n",
    "- Conjunto de entrenamiento: 14,287 filas completas\n",
    "\n",
    "- Conjunto de prueba: 5,383 filas completas\n",
    "\n",
    "Ambos conjuntos solo contienen las columnas reales (las que se pueden usar en producción y para la predicción).\n",
    "Se eliminaron las columnas que causaban fuga de datos y las filas con valores nulos.\n",
    "Ahora sí podemos pasar al análisis de datos."
   ]
  },
  {
   "cell_type": "code",
   "execution_count": 29,
   "metadata": {},
   "outputs": [],
   "source": [
    "#Comenzaremos por observar como cambia la concentración de metales (Au, Ag, Pb) en función de la etapa de purificación.\n",
    "#Seleccionamos las variables que contienen las concentraciones de los 3 metales en distintas etapas\n",
    "au_cols = ['rougher.input.feed_au', 'rougher.output.concentrate_au', 'final.output.concentrate_au']\n",
    "ag_cols = ['rougher.input.feed_ag', 'rougher.output.concentrate_ag', 'final.output.concentrate_ag']\n",
    "pb_cols = ['rougher.input.feed_pb', 'rougher.output.concentrate_pb', 'final.output.concentrate_pb']\n",
    "#Las agruopamos en un df para analizarlas\n",
    "metals_df = df_train[au_cols + ag_cols + pb_cols]"
   ]
  },
  {
   "cell_type": "code",
   "execution_count": 31,
   "metadata": {},
   "outputs": [
    {
     "data": {
      "image/png": "[encoded data removed]",
      "text/plain": [
       "<Figure size 640x480 with 1 Axes>"
      ]
     },
     "metadata": {},
     "output_type": "display_data"
    }
   ],
   "source": [
    "#Graficamos la distribución de los datos en boxplot para el oro\n",
    "metals_df[au_cols].boxplot()\n",
    "plt.title('Concentración de Oro (Au) en diferentes etapas')\n",
    "plt.ylabel('% de concentración')\n",
    "plt.xticks(ticks=[1, 2, 3], labels=['Feed', 'Rougher', 'Final'])\n",
    "plt.show()"
   ]
  },
  {
   "cell_type": "code",
   "execution_count": 33,
   "metadata": {},
   "outputs": [
    {
     "data": {
      "image/png": "[encoded data removed]",
      "text/plain": [
       "<Figure size 640x480 with 1 Axes>"
      ]
     },
     "metadata": {},
     "output_type": "display_data"
    }
   ],
   "source": [
    "#Graficamos la distribución de los datos en boxplot para la plata\n",
    "metals_df[ag_cols].boxplot()\n",
    "plt.title('Concentración de Plata (Ag) en diferentes etapas')\n",
    "plt.ylabel('% de concentración')\n",
    "plt.xticks(ticks=[1, 2, 3], labels=['Feed', 'Rougher', 'Final'])\n",
    "plt.show()"
   ]
  },
  {
   "cell_type": "code",
   "execution_count": 35,
   "metadata": {},
   "outputs": [
    {
     "data": {
      "image/png": "[encoded data removed]",
      "text/plain": [
       "<Figure size 640x480 with 1 Axes>"
      ]
     },
     "metadata": {},
     "output_type": "display_data"
    }
   ],
   "source": [
    "#Graficamos la distribución de los datos en boxplot para el plomo\n",
    "metals_df[pb_cols].boxplot()\n",
    "plt.title('Concentración de Plomo (Pb) en diferentes etapas')\n",
    "plt.ylabel('% de concentración')\n",
    "plt.xticks(ticks=[1, 2, 3], labels=['Feed', 'Rougher', 'Final'])\n",
    "plt.show()"
   ]
  },
  {
   "cell_type": "code",
   "execution_count": 37,
   "metadata": {},
   "outputs": [
    {
     "name": "stdout",
     "output_type": "stream",
     "text": [
      "Resumen estadístico Oro\n",
      "             media    mediana    varianza  desviación estándar\n",
      "Feed      7.170717   7.443530    9.012685             3.002113\n",
      "Rougher  17.401541  19.644663   47.912355             6.921875\n",
      "Final    39.467217  44.498874  193.689202            13.917227\n",
      "\n",
      "Resumen estadístico Plata\n",
      "             media    mediana   varianza  desviación estándar\n",
      "Feed      7.832347   7.938193   9.853411             3.139014\n",
      "Rougher  10.580475  11.459862  19.815759             4.451490\n",
      "Final     4.716907   4.869346   4.396225             2.096718\n",
      "\n",
      "Resumen estadístico Plomo\n",
      "            media    mediana   varianza  desviación estándar\n",
      "Feed     3.218931   3.297050   2.182306             1.477263\n",
      "Rougher  6.880322   7.583773   8.577615             2.928757\n",
      "Final    9.113559  10.065316  11.488676             3.389495\n"
     ]
    }
   ],
   "source": [
    "#Creamos una función para darnos un resumen estadístico del cambio de concentración de metales.\n",
    "def resumen_estadistico(df):\n",
    "    resumen = pd.DataFrame({\n",
    "        'media': df.mean(),\n",
    "        'mediana': df.median(),\n",
    "        'varianza': df.var(),\n",
    "        'desviación estándar': df.std()\n",
    "    })\n",
    "    resumen.index = ['Feed', 'Rougher', 'Final']\n",
    "    return resumen\n",
    "\n",
    "print(\"Resumen estadístico Oro\")\n",
    "print(resumen_estadistico(metals_df[au_cols]))\n",
    "print()\n",
    "print(\"Resumen estadístico Plata\")\n",
    "print(resumen_estadistico(metals_df[ag_cols]))\n",
    "print()\n",
    "print(\"Resumen estadístico Plomo\")\n",
    "print(resumen_estadistico(metals_df[pb_cols]))"
   ]
  },
  {
   "cell_type": "markdown",
   "metadata": {},
   "source": [
    "    Observaciones\n",
    "Oro (Au):\n",
    "- La concentración aumenta significativamente en cada etapa.\n",
    "Plata(Ag):\n",
    "- Inicialmente incrementa la concentración en Rougher, pero al final del proceso, la concentración del mineral baja, lo cuál indica pérdidas en el proceso.\n",
    "Plomo (Pb):\n",
    "- La concentración aumenta a lo largo del proceso.\n",
    "\n",
    "Las varianzas de las concentraciones son bastante elevadas en todas las etapas y para todos los metales, especialmente en la concentración final de oro (193.69). Esto se debe a la gran cantidad de valores atípicos observados, lo cual es esperable dadas las características y variabilidad inherente del proceso industrial de extracción y purificación."
   ]
  },
  {
   "cell_type": "code",
   "execution_count": 39,
   "metadata": {},
   "outputs": [
    {
     "name": "stdout",
     "output_type": "stream",
     "text": [
      "Media - Train: 58.67644376412422\n",
      "Media - Test : 55.93753506406803\n",
      "Desviación estándar - Train: 23.9225907690126\n",
      "Desviación estándar - Test : 22.7242537945624\n"
     ]
    }
   ],
   "source": [
    "#Proseguiremos a comparar las distribuciones del tamaño de particulas de conjunto de entrenamiento y prueba, para evaluar si este último es representativo.\n",
    "#Debido a que queremos el tamaño de las particulas de la alimentación usaremos la variable rougher.input.feed_size. \n",
    "#Comparamos las estadísticas\n",
    "print(\"Media - Train:\", df_train['rougher.input.feed_size'].mean())\n",
    "print(\"Media - Test :\", df_test['rougher.input.feed_size'].mean())\n",
    "\n",
    "print(\"Desviación estándar - Train:\", df_train['rougher.input.feed_size'].std())\n",
    "print(\"Desviación estándar - Test :\", df_test['rougher.input.feed_size'].std())\n"
   ]
  },
  {
   "cell_type": "code",
   "execution_count": 41,
   "metadata": {},
   "outputs": [
    {
     "data": {
      "image/png": "[encoded data removed]",
      "text/plain": [
       "<Figure size 1000x500 with 1 Axes>"
      ]
     },
     "metadata": {},
     "output_type": "display_data"
    }
   ],
   "source": [
    "#Comparamos ambos conjuntos con un histograma\n",
    "plt.figure(figsize=(10,5))\n",
    "\n",
    "\n",
    "df_train['rougher.input.feed_size'].hist(alpha=0.5, bins=50, label='Train')\n",
    "df_test['rougher.input.feed_size'].hist(alpha=0.5, bins=50, label='Test')\n",
    "\n",
    "plt.title('Distribución del tamaño de partículas')\n",
    "plt.xlabel('Tamaño de partícula')\n",
    "plt.ylabel('Frecuencia')\n",
    "plt.legend()\n",
    "plt.show()"
   ]
  },
  {
   "cell_type": "markdown",
   "metadata": {},
   "source": [
    "La distribución del tamaño de particulas en ambos conjuntos es similar tanto visual como estadísticamente.\n",
    "El conjunto de prueba es representativo para evaluar el modelo.\n"
   ]
  },
  {
   "cell_type": "code",
   "execution_count": 43,
   "metadata": {},
   "outputs": [],
   "source": [
    "#Consideraremos las concentraciones totales de cada material en todas las fases del proceso para observar valores anormales y considerar su permnencia en el data set\n",
    "#Creamos listas de las concentraciones de oro, plata, plomo y residuos solidos por etapa\n",
    "feed_cols = ['rougher.input.feed_au', 'rougher.input.feed_ag', 'rougher.input.feed_pb', 'rougher.input.feed_sol']\n",
    "rougher_cols = ['rougher.output.concentrate_au', 'rougher.output.concentrate_ag', 'rougher.output.concentrate_pb', 'rougher.output.concentrate_sol']\n",
    "final_cols = ['final.output.concentrate_au', 'final.output.concentrate_ag', 'final.output.concentrate_pb', 'final.output.concentrate_sol']\n",
    "#Calculamos la suma todal de concentraciones \n",
    "df_train['feed_sum'] = df_train[feed_cols].sum(axis=1)\n",
    "df_train['rougher_sum'] = df_train[rougher_cols].sum(axis=1)\n",
    "df_train['final_sum'] = df_train[final_cols].sum(axis=1)"
   ]
  },
  {
   "cell_type": "code",
   "execution_count": 45,
   "metadata": {},
   "outputs": [
    {
     "data": {
      "image/png": "[encoded data removed]",
      "text/plain": [
       "<Figure size 1500x500 with 4 Axes>"
      ]
     },
     "metadata": {},
     "output_type": "display_data"
    }
   ],
   "source": [
    "#Graficamos la distribución de los resultados en un histograma\n",
    "df_train[['feed_sum', 'rougher_sum', 'final_sum']].hist(bins=100, figsize=(15,5))\n",
    "plt.suptitle(\"Distribución de la suma total de concentraciones por etapa\")\n",
    "plt.show()"
   ]
  },
  {
   "cell_type": "code",
   "execution_count": 47,
   "metadata": {},
   "outputs": [
    {
     "name": "stdout",
     "output_type": "stream",
     "text": [
      "Materia prima\n",
      "Valores muy bajos en feed_sum: 1616\n",
      "Valores muy altos en feed_sum: 0\n",
      "\n",
      "Concentrado rougher\n",
      "Valores muy bajos en rougher_sum: 2022\n",
      "Valores muy altos en rougher_sum: 0\n",
      "\n",
      "Concentrado final\n",
      "Valores muy bajos en final_sum: 1735\n",
      "Valores muy altos en final_sum: 0\n"
     ]
    }
   ],
   "source": [
    "#Verificamos valores extremos para cada proceso\n",
    "print(\"Materia prima\")\n",
    "print(\"Valores muy bajos en feed_sum:\", (df_train['feed_sum'] < 1).sum())\n",
    "print(\"Valores muy altos en feed_sum:\", (df_train['feed_sum'] > 99).sum())\n",
    "print()\n",
    "print(\"Concentrado rougher\")\n",
    "print(\"Valores muy bajos en rougher_sum:\", (df_train['rougher_sum'] < 1).sum())\n",
    "print(\"Valores muy altos en rougher_sum:\", (df_train['rougher_sum'] > 99).sum())\n",
    "print()\n",
    "print(\"Concentrado final\")\n",
    "print(\"Valores muy bajos en final_sum:\", (df_train['final_sum'] < 1).sum())\n",
    "print(\"Valores muy altos en final_sum:\", (df_train['final_sum'] > 99).sum())\n"
   ]
  },
  {
   "cell_type": "markdown",
   "metadata": {},
   "source": [
    "Gracias a los historiogramas nos dimos cuenta que en la distribución de la suma total de concentraciones, se apreciaban bastantes valores atípicos, donde dichos resultados no son realistas al acercarse al 0%. Estas filas al ser valores anormales deben eliminarse; pues lo más seguro es que sean resultado de errores de medición o registros incompletos."
   ]
  },
  {
   "cell_type": "code",
   "execution_count": 49,
   "metadata": {},
   "outputs": [
    {
     "name": "stdout",
     "output_type": "stream",
     "text": [
      "Tamaño del df_train final tras eliminar valores anómalos: (13857, 89)\n"
     ]
    }
   ],
   "source": [
    "# Elimina columnas si ya existen en df_train_clean para evitar duplicados en el join\n",
    "df_train_clean = df_train_clean.drop(columns=['feed_sum', 'rougher_sum', 'final_sum'], errors='ignore')\n",
    "#Antes debemos unir 'feed_sum', 'rougher_sum' y 'final_sum' con df_train_clean que no tiene valores nulos\n",
    "sumas = df_train[['feed_sum', 'rougher_sum', 'final_sum']]\n",
    "df_train_clean = df_train_clean.join(sumas)\n",
    "#Creamos un data set para el conjunto de entrenamiento sin valores faltantes ni anormales.\n",
    "df_train_final = df_train_clean[\n",
    "    (df_train_clean['feed_sum'] >= 1) &\n",
    "    (df_train_clean['rougher_sum'] >= 1) &\n",
    "    (df_train_clean['final_sum'] >= 1)\n",
    "]\n",
    "\n",
    "print(\"Tamaño del df_train final tras eliminar valores anómalos:\", df_train_final.shape)\n"
   ]
  },
  {
   "cell_type": "code",
   "execution_count": 51,
   "metadata": {},
   "outputs": [],
   "source": [
    "#Redefinimos real_features ahora usando los conjuntos limpios y finales \n",
    "real_features = get_real_features(df_train_final, df_test_clean)\n"
   ]
  },
  {
   "cell_type": "code",
   "execution_count": 53,
   "metadata": {},
   "outputs": [],
   "source": [
    "#Creamos una función para calcular el valor de sMAPE (error medio absoluto porcentual simétrico)\n",
    "def smape(y_true, y_pred):\n",
    "    numerator = np.abs(y_pred - y_true)\n",
    "    denominator = (np.abs(y_pred) + np.abs(y_true)) / 2\n",
    "    smape_val = numerator / denominator\n",
    "    return np.mean(smape_val) * 100\n",
    "#Adaptamos el score de sMAPE debido a que es un indicador de error, marcamos que greater_is_better=False\n",
    "smape_scorer = make_scorer(smape, greater_is_better=False)"
   ]
  },
  {
   "cell_type": "code",
   "execution_count": 55,
   "metadata": {},
   "outputs": [],
   "source": [
    "#Preparamos datos, utilizamos la lista real_features anteriormente encontrada que contiene todas las variables que aparecen en los ocnjuntos train y test\n",
    "X = df_train_final[real_features]\n",
    "y_rougher = df_train_final['rougher.output.recovery']\n",
    "y_final = df_train_final['final.output.recovery']\n",
    "#Para evitar que se filtren datos Nan\n",
    "#Juntamos X y los dos y en un mismo DataFrame\n",
    "df_model = X.copy()\n",
    "df_model['y_rougher'] = y_rougher\n",
    "df_model['y_final'] = y_final\n",
    "\n",
    "# Eliminamos cualquier fila con valores NaN\n",
    "df_model_clean = df_model.dropna()\n",
    "\n",
    "# Separamos de nuevo X, y_rougher y y_final limpios\n",
    "X_clean = df_model_clean.drop(columns=['y_rougher', 'y_final'])\n",
    "y_rougher_clean = df_model_clean['y_rougher']\n",
    "y_final_clean = df_model_clean['y_final']"
   ]
  },
  {
   "cell_type": "code",
   "execution_count": 57,
   "metadata": {},
   "outputs": [
    {
     "name": "stdout",
     "output_type": "stream",
     "text": [
      "¿NaNs en X? 0\n",
      "¿NaNs en y_rougher? 0\n",
      "¿NaNs en y_final? 0\n",
      "Tamaño del df_model_clean tras eliminar valores anómalos: (12429, 54)\n"
     ]
    }
   ],
   "source": [
    "# Diagnóstico rápido\n",
    "print(\"¿NaNs en X?\", X_clean.isna().sum().sum())\n",
    "print(\"¿NaNs en y_rougher?\", y_rougher_clean.isna().sum())\n",
    "print(\"¿NaNs en y_final?\", y_final_clean.isna().sum())\n",
    "print(\"Tamaño del df_model_clean tras eliminar valores anómalos:\", df_model_clean.shape)"
   ]
  },
  {
   "cell_type": "code",
   "execution_count": 59,
   "metadata": {},
   "outputs": [
    {
     "name": "stdout",
     "output_type": "stream",
     "text": [
      "\n",
      "Modelo: LinearRegression\n",
      "sMAPE Rougher: 6.84\n",
      "sMAPE Final: 10.17\n",
      "sMAPE Total: 9.34\n",
      "\n",
      "Modelo: RandomForest\n",
      "sMAPE Rougher: 6.47\n",
      "sMAPE Final: 9.98\n",
      "sMAPE Total: 9.10\n"
     ]
    }
   ],
   "source": [
    "models = {\n",
    "    'LinearRegression': LinearRegression(),\n",
    "    'RandomForest': RandomForestRegressor(n_estimators=30, random_state=1, n_jobs=-1)  # n_jobs acelera muchísimo\n",
    "}\n",
    "for name, model in models.items():\n",
    "    score_rougher = cross_val_score(model, X_clean, y_rougher_clean, cv=5, scoring=smape_scorer)\n",
    "    score_final = cross_val_score(model, X_clean, y_final_clean, cv=5, scoring=smape_scorer)\n",
    "\n",
    "    smape_rougher = -score_rougher.mean()\n",
    "    smape_final = -score_final.mean()\n",
    "    smape_total = 0.25 * smape_rougher + 0.75 * smape_final\n",
    "\n",
    "    print(f\"\\nModelo: {name}\")\n",
    "    print(f\"sMAPE Rougher: {smape_rougher:.2f}\")\n",
    "    print(f\"sMAPE Final: {smape_final:.2f}\")\n",
    "    print(f\"sMAPE Total: {smape_total:.2f}\")"
   ]
  },
  {
   "cell_type": "markdown",
   "metadata": {},
   "source": [
    "    Resultados en el conjunto de entrenamiento:\n",
    "    \n",
    "    -A pesar de haber eliminado valores atípicos, la alta varianza de los datos refleja la complejidad del proceso, por lo que los resultados de sMAPE obtenidos por ambos modelos se consideran aceptables.\n",
    "    \n",
    "    -El modelo Random Forest logra una ligera mejora en los valores de sMAPE en comparación con Linear Regression.\n",
    "    \n",
    "    -Se observan mejores métricas de sMAPE en el proceso Rougher, ya que el proceso Final es más complejo y propenso a variaciones. Esto se refleja en un sMAPE Total más alto."
   ]
  },
  {
   "cell_type": "code",
   "execution_count": 61,
   "metadata": {},
   "outputs": [
    {
     "name": "stdout",
     "output_type": "stream",
     "text": [
      "sMAPE Rougher (Test): 8.06\n",
      "sMAPE Final (Test): 9.93\n",
      "sMAPE Total (Test): 9.46\n"
     ]
    }
   ],
   "source": [
    "#Pasamos a probar el mejor modelo con el conjunto de prueba\n",
    "#Preparamos el conjunto de prueba\n",
    "X_test = df_test_clean[real_features]\n",
    "\n",
    "#Extraemos los valores verdaderos de y_rougher y y_final para poder evaluar el modelo con sMAPE correctamente\n",
    "df_target = df_full.loc[df_test_clean.index, ['rougher.output.recovery', 'final.output.recovery']]\n",
    "df_test_full = df_test_clean.join(df_target)\n",
    "\n",
    "#Declaramos el mejor modelo para ambos procesos\n",
    "best_model_rougher = RandomForestRegressor(n_estimators=30, random_state=1, n_jobs=-1)\n",
    "best_model_final = RandomForestRegressor(n_estimators=30, random_state=1, n_jobs=-1)\n",
    "\n",
    "#Entrenamos el modelo\n",
    "best_model_rougher.fit(X_clean, y_rougher_clean)\n",
    "best_model_final.fit(X_clean, y_final_clean)\n",
    "\n",
    "#Hacemos las predicciones\n",
    "y_pred_rougher = best_model_rougher.predict(X_test)\n",
    "y_pred_final = best_model_final.predict(X_test)\n",
    "\n",
    "#Obtenemos los valores reales para calcular sMAPE del conjunto de prueba\n",
    "y_true_rougher = df_test_full['rougher.output.recovery']\n",
    "y_true_final = df_test_full['final.output.recovery']\n",
    "\n",
    "#Calculamos sMAPE\n",
    "smape_r = smape(y_true_rougher, y_pred_rougher)\n",
    "smape_f = smape(y_true_final, y_pred_final)\n",
    "smape_total = 0.25 * smape_r + 0.75 * smape_f\n",
    "\n",
    "print(f\"sMAPE Rougher (Test): {smape_r:.2f}\")\n",
    "print(f\"sMAPE Final (Test): {smape_f:.2f}\")\n",
    "print(f\"sMAPE Total (Test): {smape_total:.2f}\")"
   ]
  },
  {
   "cell_type": "markdown",
   "metadata": {},
   "source": [
    "## Conclusiónes:\n",
    "\n",
    "El modelo RandomForestRegressor, entrenado con datos depurados y evaluado usando métodos de validación cruzada mostró un buen rendimiento en el conjunto de prueba con un sMAPE en el proceso Rougher de 8.05, un sMAPE en el proceso final de 9.79, obteniendo un sMAPE total de 9.35.\n",
    "\n",
    "Esto le da al modelo la capacidad de predecir con un error aceptable el porcentaje de recuperación durante los procesos de obtención de oro en la empresa para cada fase, dependiendo de las variables físico-químicas del proceso como el tamaño de partícula, la concentración de metales (Au, Ag, Pb), y la proporción de sólidos en las distintas etapas de tratamiento.\n",
    "\n",
    "Se considera este un proceso complejo, cuyos resultados presentan varianzas elevadas y valores atípicos, por lo que obtener una métrica sMAPE Total por debajo del 10% valida la solidez del modelo y su utilidad práctica en un entorno industrial."
   ]
  }
 ],
 "metadata": {
  "kernelspec": {
   "display_name": "Python [conda env:base] *",
   "language": "python",
   "name": "conda-base-py"
  },
  "language_info": {
   "codemirror_mode": {
    "name": "ipython",
    "version": 3
   },
   "file_extension": ".py",
   "mimetype": "text/x-python",
   "name": "python",
   "nbconvert_exporter": "python",
   "pygments_lexer": "ipython3",
   "version": "3.12.7"
  }
 },
 "nbformat": 4,
 "nbformat_minor": 4
}
